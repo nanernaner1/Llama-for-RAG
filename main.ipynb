{
 "cells": [
  {
   "cell_type": "code",
   "execution_count": 1,
   "metadata": {},
   "outputs": [],
   "source": [
    "import os\n",
    "from dotenv import load_dotenv\n",
    "\n",
    "load_dotenv()\n",
    "\n",
    "os.environ[\"OPENAI_API_KEY\"] = os.getenv(\"OPENAI_API_KEY\")\n",
    "os.environ[\"AZURE_OPENAI_ENDPOINT\"] = os.getenv(\"AZURE_OPENAI_ENDPOINT\")\n",
    "os.environ[\"OPENAI_API_VERSION\"] = os.getenv(\"OPENAI_API_VERSION\")\n",
    "\n",
    "OPENAI_API_KEY = os.environ[\"OPENAI_API_KEY\"]\n",
    "AZURE_OPENAI_ENDPOINT = os.environ[\"AZURE_OPENAI_ENDPOINT\"]\n",
    "OPENAI_API_VERSION = os.environ[\"OPENAI_API_VERSION\"]"
   ]
  },
  {
   "cell_type": "code",
   "execution_count": 2,
   "metadata": {},
   "outputs": [],
   "source": [
    "from llama_index.llms.azure_openai import AzureOpenAI"
   ]
  },
  {
   "cell_type": "code",
   "execution_count": 3,
   "metadata": {},
   "outputs": [],
   "source": [
    "llm = AzureOpenAI(\n",
    "    engine=\"gpt-35-trb\",\n",
    "    model=\"gpt-35-turbo\",\n",
    "    temperature=0.0,\n",
    "    azure_endpoint=\"https://ff-aoai-space.openai.azure.com/\",\n",
    "    api_key=\"37adb3b0a7f64fcba82fe3f206c05698\",\n",
    "    api_version=\"2023-07-01-preview\",\n",
    ")"
   ]
  },
  {
   "cell_type": "code",
   "execution_count": 4,
   "metadata": {},
   "outputs": [
    {
     "name": "stdout",
     "output_type": "stream",
     "text": [
      "the sun is shining brightly, casting a warm glow over everything below. The clouds are fluffy and white, drifting lazily across the sky. Birds are chirping and flying about, enjoying the perfect weather. The air is fresh and clean, with a gentle breeze blowing through the trees. It's a perfect day to be outside, enjoying nature and all its beauty.\n"
     ]
    }
   ],
   "source": [
    "response = llm.complete(\"The sky is a beautiful blue and\")\n",
    "print(response)"
   ]
  },
  {
   "cell_type": "markdown",
   "metadata": {},
   "source": [
    "# Download text from books"
   ]
  },
  {
   "cell_type": "code",
   "execution_count": 5,
   "metadata": {},
   "outputs": [],
   "source": [
    "import requests\n",
    "from pathlib import Path\n",
    "\n",
    "def download_file(url: str, filename: str) -> None:\n",
    "    \"\"\"\n",
    "    Download a file from a URL and save it to a specified location.\n",
    "\n",
    "    Parameters:\n",
    "    url (str): The URL of the file to download\n",
    "    filename (str): The name to save the file as.\n",
    "\n",
    "    Returns:\n",
    "    None\n",
    "    \"\"\"\n",
    "    # Construct the detination path\n",
    "    destination = Path('../data') / filename\n",
    "    destination.parent.mkdir(parents=True, exist_ok=True) # Ensure the directory exists\n",
    "\n",
    "    response = requests.get(url)\n",
    "    response.raise_for_status()\n",
    "\n",
    "    with open(destination, 'wb') as f:\n",
    "        f.write(response.content)\n",
    "    \n",
    "    print(f\"File downloaded succesfully to {destination}\")"
   ]
  },
  {
   "cell_type": "code",
   "execution_count": 7,
   "metadata": {},
   "outputs": [
    {
     "name": "stdout",
     "output_type": "stream",
     "text": [
      "File downloaded succesfully to ..\\data\\almanack_of_naval_ravikant.pdf\n"
     ]
    }
   ],
   "source": [
    "navalmanack_url = \"https://navalmanack.s3.amazonaws.com/Eric-Jorgenson_The-Almanack-of-Naval-Ravikant_Final.pdf\"\n",
    "\n",
    "download_file(navalmanack_url, \"almanack_of_naval_ravikant.pdf\")"
   ]
  },
  {
   "cell_type": "code",
   "execution_count": 8,
   "metadata": {},
   "outputs": [
    {
     "name": "stdout",
     "output_type": "stream",
     "text": [
      "File downloaded succesfully to ..\\data\\anthology_of_balaji.pdf\n"
     ]
    }
   ],
   "source": [
    "balaji_url = \"https://balajianthology.s3.us-east-2.amazonaws.com/The+Anthology+of+Balaji.pdf\"\n",
    "download_file(balaji_url, \"anthology_of_balaji.pdf\")"
   ]
  },
  {
   "cell_type": "code",
   "execution_count": 9,
   "metadata": {},
   "outputs": [
    {
     "name": "stdout",
     "output_type": "stream",
     "text": [
      "File downloaded succesfully to ..\\data\\taoofseneca_vol1-1.pdf\n",
      "File downloaded succesfully to ..\\data\\taoofseneca_vol2.pdf\n",
      "File downloaded succesfully to ..\\data\\taoofseneca_vol3.pdf\n"
     ]
    }
   ],
   "source": [
    "letters_urls = [\n",
    "    \"https://tim.blog/wp-content/uploads/2017/07/taoofseneca_vol1-1.pdf\",\n",
    "    \"https://tim.blog/wp-content/uploads/2017/07/taoofseneca_vol2.pdf\",\n",
    "    \"https://tim.blog/wp-content/uploads/2017/07/taoofseneca_vol3.pdf\",\n",
    "]\n",
    "\n",
    "for url in letters_urls:\n",
    "    filename = Path(url).name\n",
    "    download_file(url, filename)"
   ]
  },
  {
   "cell_type": "code",
   "execution_count": 10,
   "metadata": {},
   "outputs": [
    {
     "name": "stdout",
     "output_type": "stream",
     "text": [
      "File downloaded succesfully to ..\\data\\skin_in_the_game.pdf\n"
     ]
    }
   ],
   "source": [
    "skin_in_the_game_url = \"https://philosophiatopics.files.wordpress.com/2018/10/skin-in-the-game-nassim-nicholas-taleb.pdf\"\n",
    "\n",
    "download_file(skin_in_the_game_url, \"skin_in_the_game.pdf\")"
   ]
  },
  {
   "cell_type": "code",
   "execution_count": 12,
   "metadata": {},
   "outputs": [
    {
     "name": "stdout",
     "output_type": "stream",
     "text": [
      "File downloaded succesfully to ..\\data\\hackers_and_painters.pdf\n"
     ]
    }
   ],
   "source": [
    "hackers_url = \"https://digtvbg.com/files/books-for-hacking/Hackers%20%26%20Painters%20-%20Big%20Ideas%20From%20The%20Computer%20Age%20by%20Paul%20Graham.pdf\"\n",
    "\n",
    "download_file(hackers_url, \"hackers_and_painters.pdf\")"
   ]
  },
  {
   "cell_type": "code",
   "execution_count": 13,
   "metadata": {},
   "outputs": [
    {
     "name": "stdout",
     "output_type": "stream",
     "text": [
      "File downloaded succesfully to ..\\data\\striking-thoughts.pdf\n"
     ]
    }
   ],
   "source": [
    "striking_thoughts = \"https://eddierockerz.com/wp-content/uploads/2020/11/striking-thoughts_-bruce-lees-wisdom-for-daily-living-pdfdrive.com-.pdf\"\n",
    "download_file(url= striking_thoughts, filename= \"striking-thoughts.pdf\")"
   ]
  },
  {
   "cell_type": "code",
   "execution_count": null,
   "metadata": {},
   "outputs": [],
   "source": []
  }
 ],
 "metadata": {
  "kernelspec": {
   "display_name": "venv_llama_rag",
   "language": "python",
   "name": "python3"
  },
  "language_info": {
   "codemirror_mode": {
    "name": "ipython",
    "version": 3
   },
   "file_extension": ".py",
   "mimetype": "text/x-python",
   "name": "python",
   "nbconvert_exporter": "python",
   "pygments_lexer": "ipython3",
   "version": "3.11.9"
  }
 },
 "nbformat": 4,
 "nbformat_minor": 2
}
